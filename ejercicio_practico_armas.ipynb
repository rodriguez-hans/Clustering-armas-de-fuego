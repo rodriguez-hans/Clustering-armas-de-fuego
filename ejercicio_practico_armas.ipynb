{
  "nbformat": 4,
  "nbformat_minor": 0,
  "metadata": {
    "colab": {
      "provenance": [],
      "collapsed_sections": []
    },
    "kernelspec": {
      "name": "python3",
      "display_name": "Python 3"
    }
  },
  "cells": [
    {
      "cell_type": "markdown",
      "source": [
        "#EXAMEN PRIMER PARCIAL\n",
        "El dataset nws.csv contiene informacion sobre las reservas de armamento nuclear en ciertos paises. Las columnas del dataset son las siguientes:\n",
        "\n",
        "    Entity: Nombre del pais\n",
        "    Code: codigo del pais\n",
        "    year: año\n",
        "    nuclear_weapons_stockpile: cantidad de almacenes de reservas nucleares\n",
        "\n",
        "El objetivo es realizar un analisis de tipo clustering que permita obtener hallazgos de la informacion. Para este analisis debe aplicar criterio para seleccionar las columnas, aplicar el algoritmo y desarrollar sus conclusiones.\n",
        "\n",
        "\n"
      ],
      "metadata": {
        "id": "vA8CZY9k59ZV"
      }
    },
    {
      "cell_type": "code",
      "metadata": {
        "id": "JkzySR5tXTJD"
      },
      "source": [
        "#Dataset: https://estliveupsedu-my.sharepoint.com/:x:/g/personal/xmerino_ups_edu_ec/EcA_bQf4edZOsb0QM_ZrbSsB7vh9vC-hisc2ZDKuh-CcZg?e=80CeFx\n",
        "\n",
        "import pandas as pd\n",
        "import numpy as np\n",
        "import matplotlib.pyplot as plt\n",
        "from sklearn.cluster import KMeans\n",
        "from sklearn import metrics"
      ],
      "execution_count": null,
      "outputs": []
    },
    {
      "cell_type": "markdown",
      "source": [
        "Evaluación:  \n",
        "Se evaluará de la siguiente manera, tendremos separados por (paises) con respecto a su (cantidad de almacenes).  \n",
        "Por lo tanto como objetivo tenemos la evaluación de que paises han invertido mas en armamento con relación a otros. \n",
        "  \n",
        "Nota:  \n",
        "He decidido omitir esta vez el tema de los años pues por aspectos políticos unos países se encuentran en conflicto bélico mientras que otros no."
      ],
      "metadata": {
        "id": "BYekqtMo-CSZ"
      }
    },
    {
      "cell_type": "code",
      "metadata": {
        "id": "HmRqs0JdXj4w"
      },
      "source": [
        "ds = pd.read_csv(\"nws.csv\")\n",
        "df = pd.DataFrame(ds) "
      ],
      "execution_count": null,
      "outputs": []
    },
    {
      "cell_type": "markdown",
      "source": [
        "El código hace referencia al codigo abreviado del nombre del país, no lo necesitamos por ahora"
      ],
      "metadata": {
        "id": "uUqlb-AR-5QI"
      }
    },
    {
      "cell_type": "code",
      "source": [
        "del(df['Code'])\n",
        "del(df['Year'])"
      ],
      "metadata": {
        "id": "ryj8jWW178Az"
      },
      "execution_count": null,
      "outputs": []
    },
    {
      "cell_type": "code",
      "source": [
        "df.head(-25)"
      ],
      "metadata": {
        "colab": {
          "base_uri": "https://localhost:8080/",
          "height": 424
        },
        "id": "8_Z3SUSI_Dlo",
        "outputId": "7392bb98-88d5-438f-bcc9-aca53091a0bb"
      },
      "execution_count": null,
      "outputs": [
        {
          "output_type": "execute_result",
          "data": {
            "text/plain": [
              "            Entity  nuclear_weapons_stockpile\n",
              "0            China                          0\n",
              "1            China                          0\n",
              "2            China                          0\n",
              "3            China                          0\n",
              "4            China                          0\n",
              "..             ...                        ...\n",
              "750  United States                      11511\n",
              "751  United States                      10979\n",
              "752  United States                      10904\n",
              "753  United States                      11011\n",
              "754  United States                      10903\n",
              "\n",
              "[755 rows x 2 columns]"
            ],
            "text/html": [
              "\n",
              "  <div id=\"df-f21a5c5c-2565-43fd-84c6-4f38831686ac\">\n",
              "    <div class=\"colab-df-container\">\n",
              "      <div>\n",
              "<style scoped>\n",
              "    .dataframe tbody tr th:only-of-type {\n",
              "        vertical-align: middle;\n",
              "    }\n",
              "\n",
              "    .dataframe tbody tr th {\n",
              "        vertical-align: top;\n",
              "    }\n",
              "\n",
              "    .dataframe thead th {\n",
              "        text-align: right;\n",
              "    }\n",
              "</style>\n",
              "<table border=\"1\" class=\"dataframe\">\n",
              "  <thead>\n",
              "    <tr style=\"text-align: right;\">\n",
              "      <th></th>\n",
              "      <th>Entity</th>\n",
              "      <th>nuclear_weapons_stockpile</th>\n",
              "    </tr>\n",
              "  </thead>\n",
              "  <tbody>\n",
              "    <tr>\n",
              "      <th>0</th>\n",
              "      <td>China</td>\n",
              "      <td>0</td>\n",
              "    </tr>\n",
              "    <tr>\n",
              "      <th>1</th>\n",
              "      <td>China</td>\n",
              "      <td>0</td>\n",
              "    </tr>\n",
              "    <tr>\n",
              "      <th>2</th>\n",
              "      <td>China</td>\n",
              "      <td>0</td>\n",
              "    </tr>\n",
              "    <tr>\n",
              "      <th>3</th>\n",
              "      <td>China</td>\n",
              "      <td>0</td>\n",
              "    </tr>\n",
              "    <tr>\n",
              "      <th>4</th>\n",
              "      <td>China</td>\n",
              "      <td>0</td>\n",
              "    </tr>\n",
              "    <tr>\n",
              "      <th>...</th>\n",
              "      <td>...</td>\n",
              "      <td>...</td>\n",
              "    </tr>\n",
              "    <tr>\n",
              "      <th>750</th>\n",
              "      <td>United States</td>\n",
              "      <td>11511</td>\n",
              "    </tr>\n",
              "    <tr>\n",
              "      <th>751</th>\n",
              "      <td>United States</td>\n",
              "      <td>10979</td>\n",
              "    </tr>\n",
              "    <tr>\n",
              "      <th>752</th>\n",
              "      <td>United States</td>\n",
              "      <td>10904</td>\n",
              "    </tr>\n",
              "    <tr>\n",
              "      <th>753</th>\n",
              "      <td>United States</td>\n",
              "      <td>11011</td>\n",
              "    </tr>\n",
              "    <tr>\n",
              "      <th>754</th>\n",
              "      <td>United States</td>\n",
              "      <td>10903</td>\n",
              "    </tr>\n",
              "  </tbody>\n",
              "</table>\n",
              "<p>755 rows × 2 columns</p>\n",
              "</div>\n",
              "      <button class=\"colab-df-convert\" onclick=\"convertToInteractive('df-f21a5c5c-2565-43fd-84c6-4f38831686ac')\"\n",
              "              title=\"Convert this dataframe to an interactive table.\"\n",
              "              style=\"display:none;\">\n",
              "        \n",
              "  <svg xmlns=\"http://www.w3.org/2000/svg\" height=\"24px\"viewBox=\"0 0 24 24\"\n",
              "       width=\"24px\">\n",
              "    <path d=\"M0 0h24v24H0V0z\" fill=\"none\"/>\n",
              "    <path d=\"M18.56 5.44l.94 2.06.94-2.06 2.06-.94-2.06-.94-.94-2.06-.94 2.06-2.06.94zm-11 1L8.5 8.5l.94-2.06 2.06-.94-2.06-.94L8.5 2.5l-.94 2.06-2.06.94zm10 10l.94 2.06.94-2.06 2.06-.94-2.06-.94-.94-2.06-.94 2.06-2.06.94z\"/><path d=\"M17.41 7.96l-1.37-1.37c-.4-.4-.92-.59-1.43-.59-.52 0-1.04.2-1.43.59L10.3 9.45l-7.72 7.72c-.78.78-.78 2.05 0 2.83L4 21.41c.39.39.9.59 1.41.59.51 0 1.02-.2 1.41-.59l7.78-7.78 2.81-2.81c.8-.78.8-2.07 0-2.86zM5.41 20L4 18.59l7.72-7.72 1.47 1.35L5.41 20z\"/>\n",
              "  </svg>\n",
              "      </button>\n",
              "      \n",
              "  <style>\n",
              "    .colab-df-container {\n",
              "      display:flex;\n",
              "      flex-wrap:wrap;\n",
              "      gap: 12px;\n",
              "    }\n",
              "\n",
              "    .colab-df-convert {\n",
              "      background-color: #E8F0FE;\n",
              "      border: none;\n",
              "      border-radius: 50%;\n",
              "      cursor: pointer;\n",
              "      display: none;\n",
              "      fill: #1967D2;\n",
              "      height: 32px;\n",
              "      padding: 0 0 0 0;\n",
              "      width: 32px;\n",
              "    }\n",
              "\n",
              "    .colab-df-convert:hover {\n",
              "      background-color: #E2EBFA;\n",
              "      box-shadow: 0px 1px 2px rgba(60, 64, 67, 0.3), 0px 1px 3px 1px rgba(60, 64, 67, 0.15);\n",
              "      fill: #174EA6;\n",
              "    }\n",
              "\n",
              "    [theme=dark] .colab-df-convert {\n",
              "      background-color: #3B4455;\n",
              "      fill: #D2E3FC;\n",
              "    }\n",
              "\n",
              "    [theme=dark] .colab-df-convert:hover {\n",
              "      background-color: #434B5C;\n",
              "      box-shadow: 0px 1px 3px 1px rgba(0, 0, 0, 0.15);\n",
              "      filter: drop-shadow(0px 1px 2px rgba(0, 0, 0, 0.3));\n",
              "      fill: #FFFFFF;\n",
              "    }\n",
              "  </style>\n",
              "\n",
              "      <script>\n",
              "        const buttonEl =\n",
              "          document.querySelector('#df-f21a5c5c-2565-43fd-84c6-4f38831686ac button.colab-df-convert');\n",
              "        buttonEl.style.display =\n",
              "          google.colab.kernel.accessAllowed ? 'block' : 'none';\n",
              "\n",
              "        async function convertToInteractive(key) {\n",
              "          const element = document.querySelector('#df-f21a5c5c-2565-43fd-84c6-4f38831686ac');\n",
              "          const dataTable =\n",
              "            await google.colab.kernel.invokeFunction('convertToInteractive',\n",
              "                                                     [key], {});\n",
              "          if (!dataTable) return;\n",
              "\n",
              "          const docLinkHtml = 'Like what you see? Visit the ' +\n",
              "            '<a target=\"_blank\" href=https://colab.research.google.com/notebooks/data_table.ipynb>data table notebook</a>'\n",
              "            + ' to learn more about interactive tables.';\n",
              "          element.innerHTML = '';\n",
              "          dataTable['output_type'] = 'display_data';\n",
              "          await google.colab.output.renderOutput(dataTable, element);\n",
              "          const docLink = document.createElement('div');\n",
              "          docLink.innerHTML = docLinkHtml;\n",
              "          element.appendChild(docLink);\n",
              "        }\n",
              "      </script>\n",
              "    </div>\n",
              "  </div>\n",
              "  "
            ]
          },
          "metadata": {},
          "execution_count": 60
        }
      ]
    },
    {
      "cell_type": "markdown",
      "source": [
        "Tomamos valores de \"Entity\" que serían los nombres de nuestros países, y \"nuclear_weapons_stockpile\" para ver el índice armamentístico"
      ],
      "metadata": {
        "id": "XmkHBfx4Eg2O"
      }
    },
    {
      "cell_type": "code",
      "metadata": {
        "id": "o_kSLV6nX1S6"
      },
      "source": [
        "x = df[\"Entity\"].values\n",
        "y = df[\"nuclear_weapons_stockpile\"].values"
      ],
      "execution_count": null,
      "outputs": []
    },
    {
      "cell_type": "markdown",
      "source": [
        "Como para hacernos una idea esa es la media de almacenaje armamentístico entre todos los países mayormente bélicos"
      ],
      "metadata": {
        "id": "pFbma5crEv2E"
      }
    },
    {
      "cell_type": "code",
      "metadata": {
        "id": "szvj_F1PYLb6",
        "colab": {
          "base_uri": "https://localhost:8080/"
        },
        "outputId": "aa0ebd54-282b-4333-e789-8117a8527104"
      },
      "source": [
        "print(\"valores promedios de almacenes: \",round(y.mean(),3))"
      ],
      "execution_count": null,
      "outputs": [
        {
          "output_type": "stream",
          "name": "stdout",
          "text": [
            "valores promedios de almacenes:  2686.524\n"
          ]
        }
      ]
    },
    {
      "cell_type": "markdown",
      "source": [
        "Conversion a array"
      ],
      "metadata": {
        "id": "u2XsF0pjWngn"
      }
    },
    {
      "cell_type": "code",
      "metadata": {
        "id": "bEQwa0aIYT1o",
        "colab": {
          "base_uri": "https://localhost:8080/"
        },
        "outputId": "e9767b2e-497d-406d-8ffa-e257b78b5c46"
      },
      "source": [
        "info = df.values #nueva version de panda\n",
        "info"
      ],
      "execution_count": null,
      "outputs": [
        {
          "output_type": "execute_result",
          "data": {
            "text/plain": [
              "array([[   0.,    0.],\n",
              "       [   0.,    0.],\n",
              "       [   0.,    0.],\n",
              "       ...,\n",
              "       [   9., 3750.],\n",
              "       [   9., 3708.],\n",
              "       [   9., 3708.]])"
            ]
          },
          "metadata": {},
          "execution_count": 86
        }
      ]
    },
    {
      "cell_type": "code",
      "metadata": {
        "id": "WcRrFe-XaCsN"
      },
      "source": [
        "#forma 2. de convertir a array\n",
        "XX=np.array(list(zip(x,y)))"
      ],
      "execution_count": null,
      "outputs": []
    },
    {
      "cell_type": "markdown",
      "source": [
        "NOTA IMPORTANTE:  \n",
        "Durante el examen me aparecía el error \"cannot convert string to float\" se solucionó reiniciando el entorno y ejecutando por reiteradas ocasiones la siguiente celda"
      ],
      "metadata": {
        "id": "wy8Yz9iHFJ_k"
      }
    },
    {
      "cell_type": "code",
      "source": [
        "from sklearn import preprocessing as pp\n",
        "le = pp.LabelEncoder()\n",
        "le.fit(df.Entity.unique())\n",
        "df['Entity'] = le.transform(df.Entity)\n",
        "df.head(-25)"
      ],
      "metadata": {
        "colab": {
          "base_uri": "https://localhost:8080/",
          "height": 424
        },
        "id": "udRWll2IAhFQ",
        "outputId": "39fe40ca-f658-418d-80b1-acd84fadb184"
      },
      "execution_count": null,
      "outputs": [
        {
          "output_type": "execute_result",
          "data": {
            "text/plain": [
              "     Entity  nuclear_weapons_stockpile\n",
              "0         0                          0\n",
              "1         0                          0\n",
              "2         0                          0\n",
              "3         0                          0\n",
              "4         0                          0\n",
              "..      ...                        ...\n",
              "750       9                      11511\n",
              "751       9                      10979\n",
              "752       9                      10904\n",
              "753       9                      11011\n",
              "754       9                      10903\n",
              "\n",
              "[755 rows x 2 columns]"
            ],
            "text/html": [
              "\n",
              "  <div id=\"df-3e14839d-b16f-4391-b8a6-50d0d04cb39a\">\n",
              "    <div class=\"colab-df-container\">\n",
              "      <div>\n",
              "<style scoped>\n",
              "    .dataframe tbody tr th:only-of-type {\n",
              "        vertical-align: middle;\n",
              "    }\n",
              "\n",
              "    .dataframe tbody tr th {\n",
              "        vertical-align: top;\n",
              "    }\n",
              "\n",
              "    .dataframe thead th {\n",
              "        text-align: right;\n",
              "    }\n",
              "</style>\n",
              "<table border=\"1\" class=\"dataframe\">\n",
              "  <thead>\n",
              "    <tr style=\"text-align: right;\">\n",
              "      <th></th>\n",
              "      <th>Entity</th>\n",
              "      <th>nuclear_weapons_stockpile</th>\n",
              "    </tr>\n",
              "  </thead>\n",
              "  <tbody>\n",
              "    <tr>\n",
              "      <th>0</th>\n",
              "      <td>0</td>\n",
              "      <td>0</td>\n",
              "    </tr>\n",
              "    <tr>\n",
              "      <th>1</th>\n",
              "      <td>0</td>\n",
              "      <td>0</td>\n",
              "    </tr>\n",
              "    <tr>\n",
              "      <th>2</th>\n",
              "      <td>0</td>\n",
              "      <td>0</td>\n",
              "    </tr>\n",
              "    <tr>\n",
              "      <th>3</th>\n",
              "      <td>0</td>\n",
              "      <td>0</td>\n",
              "    </tr>\n",
              "    <tr>\n",
              "      <th>4</th>\n",
              "      <td>0</td>\n",
              "      <td>0</td>\n",
              "    </tr>\n",
              "    <tr>\n",
              "      <th>...</th>\n",
              "      <td>...</td>\n",
              "      <td>...</td>\n",
              "    </tr>\n",
              "    <tr>\n",
              "      <th>750</th>\n",
              "      <td>9</td>\n",
              "      <td>11511</td>\n",
              "    </tr>\n",
              "    <tr>\n",
              "      <th>751</th>\n",
              "      <td>9</td>\n",
              "      <td>10979</td>\n",
              "    </tr>\n",
              "    <tr>\n",
              "      <th>752</th>\n",
              "      <td>9</td>\n",
              "      <td>10904</td>\n",
              "    </tr>\n",
              "    <tr>\n",
              "      <th>753</th>\n",
              "      <td>9</td>\n",
              "      <td>11011</td>\n",
              "    </tr>\n",
              "    <tr>\n",
              "      <th>754</th>\n",
              "      <td>9</td>\n",
              "      <td>10903</td>\n",
              "    </tr>\n",
              "  </tbody>\n",
              "</table>\n",
              "<p>755 rows × 2 columns</p>\n",
              "</div>\n",
              "      <button class=\"colab-df-convert\" onclick=\"convertToInteractive('df-3e14839d-b16f-4391-b8a6-50d0d04cb39a')\"\n",
              "              title=\"Convert this dataframe to an interactive table.\"\n",
              "              style=\"display:none;\">\n",
              "        \n",
              "  <svg xmlns=\"http://www.w3.org/2000/svg\" height=\"24px\"viewBox=\"0 0 24 24\"\n",
              "       width=\"24px\">\n",
              "    <path d=\"M0 0h24v24H0V0z\" fill=\"none\"/>\n",
              "    <path d=\"M18.56 5.44l.94 2.06.94-2.06 2.06-.94-2.06-.94-.94-2.06-.94 2.06-2.06.94zm-11 1L8.5 8.5l.94-2.06 2.06-.94-2.06-.94L8.5 2.5l-.94 2.06-2.06.94zm10 10l.94 2.06.94-2.06 2.06-.94-2.06-.94-.94-2.06-.94 2.06-2.06.94z\"/><path d=\"M17.41 7.96l-1.37-1.37c-.4-.4-.92-.59-1.43-.59-.52 0-1.04.2-1.43.59L10.3 9.45l-7.72 7.72c-.78.78-.78 2.05 0 2.83L4 21.41c.39.39.9.59 1.41.59.51 0 1.02-.2 1.41-.59l7.78-7.78 2.81-2.81c.8-.78.8-2.07 0-2.86zM5.41 20L4 18.59l7.72-7.72 1.47 1.35L5.41 20z\"/>\n",
              "  </svg>\n",
              "      </button>\n",
              "      \n",
              "  <style>\n",
              "    .colab-df-container {\n",
              "      display:flex;\n",
              "      flex-wrap:wrap;\n",
              "      gap: 12px;\n",
              "    }\n",
              "\n",
              "    .colab-df-convert {\n",
              "      background-color: #E8F0FE;\n",
              "      border: none;\n",
              "      border-radius: 50%;\n",
              "      cursor: pointer;\n",
              "      display: none;\n",
              "      fill: #1967D2;\n",
              "      height: 32px;\n",
              "      padding: 0 0 0 0;\n",
              "      width: 32px;\n",
              "    }\n",
              "\n",
              "    .colab-df-convert:hover {\n",
              "      background-color: #E2EBFA;\n",
              "      box-shadow: 0px 1px 2px rgba(60, 64, 67, 0.3), 0px 1px 3px 1px rgba(60, 64, 67, 0.15);\n",
              "      fill: #174EA6;\n",
              "    }\n",
              "\n",
              "    [theme=dark] .colab-df-convert {\n",
              "      background-color: #3B4455;\n",
              "      fill: #D2E3FC;\n",
              "    }\n",
              "\n",
              "    [theme=dark] .colab-df-convert:hover {\n",
              "      background-color: #434B5C;\n",
              "      box-shadow: 0px 1px 3px 1px rgba(0, 0, 0, 0.15);\n",
              "      filter: drop-shadow(0px 1px 2px rgba(0, 0, 0, 0.3));\n",
              "      fill: #FFFFFF;\n",
              "    }\n",
              "  </style>\n",
              "\n",
              "      <script>\n",
              "        const buttonEl =\n",
              "          document.querySelector('#df-3e14839d-b16f-4391-b8a6-50d0d04cb39a button.colab-df-convert');\n",
              "        buttonEl.style.display =\n",
              "          google.colab.kernel.accessAllowed ? 'block' : 'none';\n",
              "\n",
              "        async function convertToInteractive(key) {\n",
              "          const element = document.querySelector('#df-3e14839d-b16f-4391-b8a6-50d0d04cb39a');\n",
              "          const dataTable =\n",
              "            await google.colab.kernel.invokeFunction('convertToInteractive',\n",
              "                                                     [key], {});\n",
              "          if (!dataTable) return;\n",
              "\n",
              "          const docLinkHtml = 'Like what you see? Visit the ' +\n",
              "            '<a target=\"_blank\" href=https://colab.research.google.com/notebooks/data_table.ipynb>data table notebook</a>'\n",
              "            + ' to learn more about interactive tables.';\n",
              "          element.innerHTML = '';\n",
              "          dataTable['output_type'] = 'display_data';\n",
              "          await google.colab.output.renderOutput(dataTable, element);\n",
              "          const docLink = document.createElement('div');\n",
              "          docLink.innerHTML = docLinkHtml;\n",
              "          element.appendChild(docLink);\n",
              "        }\n",
              "      </script>\n",
              "    </div>\n",
              "  </div>\n",
              "  "
            ]
          },
          "metadata": {},
          "execution_count": 88
        }
      ]
    },
    {
      "cell_type": "markdown",
      "source": [
        "Convertimos nuestros nombres de paises a números para poderlos tratar de forma adecuada"
      ],
      "metadata": {
        "id": "S-z_eUuwE9Cl"
      }
    },
    {
      "cell_type": "code",
      "source": [
        "df['Entity'] = df['Entity'].astype('float64')"
      ],
      "metadata": {
        "id": "d4QG1RdOBSKf"
      },
      "execution_count": null,
      "outputs": []
    },
    {
      "cell_type": "code",
      "source": [
        "df['Entity'].value_counts()"
      ],
      "metadata": {
        "colab": {
          "base_uri": "https://localhost:8080/"
        },
        "id": "IhGcfP3LA8jf",
        "outputId": "71ed2358-2638-4461-dce7-3c3437057c17"
      },
      "execution_count": null,
      "outputs": [
        {
          "output_type": "execute_result",
          "data": {
            "text/plain": [
              "0.0    78\n",
              "1.0    78\n",
              "2.0    78\n",
              "3.0    78\n",
              "4.0    78\n",
              "5.0    78\n",
              "6.0    78\n",
              "7.0    78\n",
              "8.0    78\n",
              "9.0    78\n",
              "Name: Entity, dtype: int64"
            ]
          },
          "metadata": {},
          "execution_count": 81
        }
      ]
    },
    {
      "cell_type": "markdown",
      "source": [
        "Generamos los clusters con nuestros datos"
      ],
      "metadata": {
        "id": "YRTvR8HKFjpT"
      }
    },
    {
      "cell_type": "code",
      "metadata": {
        "id": "xi9kcirLaQKR"
      },
      "source": [
        "#https://scikit-learn.org/stable/modules/generated/sklearn.cluster.KMeans.html\n",
        "#Se arma los grupo de agrupamiento\n",
        "kn = KMeans(n_clusters=2, max_iter=3000)\n",
        "kn = kn.fit(XX)"
      ],
      "execution_count": null,
      "outputs": []
    },
    {
      "cell_type": "markdown",
      "source": [
        "Obtenemos nuestro labels del cluster del origen de datos"
      ],
      "metadata": {
        "id": "atOh9yiiFm2z"
      }
    },
    {
      "cell_type": "code",
      "metadata": {
        "id": "vnc_x2-Yao4X"
      },
      "source": [
        "labels = kn.predict(XX)\n",
        "centroids = kn.cluster_centers_\n"
      ],
      "execution_count": null,
      "outputs": []
    },
    {
      "cell_type": "markdown",
      "source": [
        "Colores para aplicar a la gráfica"
      ],
      "metadata": {
        "id": "yj8wRAEKGUy8"
      }
    },
    {
      "cell_type": "code",
      "metadata": {
        "id": "nAZsO503bCaL"
      },
      "source": [
        "#armo los colores para graficar\n",
        "colores =[\"m.\",\"r.\",\"c.\",\"y.\",\"g.\",\"b.\"]"
      ],
      "execution_count": null,
      "outputs": []
    },
    {
      "cell_type": "markdown",
      "source": [
        "---"
      ],
      "metadata": {
        "id": "rBrxNkc-GYHj"
      }
    },
    {
      "cell_type": "markdown",
      "source": [
        "# CONCLUSIÓN"
      ],
      "metadata": {
        "id": "RbhhlHaTW-AZ"
      }
    },
    {
      "cell_type": "markdown",
      "source": [
        "Tomando en cuenta que nuestros dos países con más almacén de armamento son el 6 (RUSSIA) y el 9 (ESTADOS UNIDOS).  \n",
        "Son los que a lo largo de los años han tenido la mayor cantidad de material bélico"
      ],
      "metadata": {
        "id": "_IHrxxBPXBAp"
      }
    },
    {
      "cell_type": "code",
      "metadata": {
        "id": "gNf9EzPEbTq-",
        "colab": {
          "base_uri": "https://localhost:8080/",
          "height": 265
        },
        "outputId": "d49252b8-fb55-4b7d-e74d-d39257b1f32c"
      },
      "source": [
        "for i in range(len(XX)):\n",
        "  #print(f\"coordenada: {X[i]} Label: {labels[i]}\")\n",
        "  plt.plot(XX[i][0],XX[i][1], colores[labels[i]], markersize=10)\n",
        "#plt.scatter(centroids[:,0],centroids[:,1],marker=\"+\",s=100,linewidths=5,zorder=10)\n",
        "plt.show()\n"
      ],
      "execution_count": null,
      "outputs": [
        {
          "output_type": "display_data",
          "data": {
            "text/plain": [
              "<Figure size 432x288 with 1 Axes>"
            ],
            "image/png": "[encoded data removed]"
          },
          "metadata": {
            "needs_background": "light"
          }
        }
      ]
    }
  ]
}